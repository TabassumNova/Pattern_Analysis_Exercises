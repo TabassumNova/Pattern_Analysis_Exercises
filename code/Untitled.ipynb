{
 "cells": [
  {
   "cell_type": "code",
   "execution_count": 10,
   "metadata": {},
   "outputs": [],
   "source": [
    "import numpy as np\n",
    "import matplotlib.pyplot as plt\n",
    "import random"
   ]
  },
  {
   "cell_type": "code",
   "execution_count": 23,
   "metadata": {},
   "outputs": [],
   "source": [
    "pic = np.array([[0,0,0,0,1,50,0,0,0,0],[0,0,0,255,80,255,0,0,0,0],[0,0,0,2,2,2,2, 0, 0,0],[0,0,255,25,255,2,5,0,0,0],[0,0,0,0,0,0,0,0,0,0]])"
   ]
  },
  {
   "cell_type": "code",
   "execution_count": 24,
   "metadata": {},
   "outputs": [
    {
     "data": {
      "text/plain": [
       "array([[  0,   0,   0,   0,   1,  50,   0,   0,   0,   0],\n",
       "       [  0,   0,   0, 255,  80, 255,   0,   0,   0,   0],\n",
       "       [  0,   0,   0,   2,   2,   2,   2,   0,   0,   0],\n",
       "       [  0,   0, 255,  25, 255,   2,   5,   0,   0,   0],\n",
       "       [  0,   0,   0,   0,   0,   0,   0,   0,   0,   0]])"
      ]
     },
     "execution_count": 24,
     "metadata": {},
     "output_type": "execute_result"
    }
   ],
   "source": [
    "pic"
   ]
  },
  {
   "cell_type": "code",
   "execution_count": 28,
   "metadata": {},
   "outputs": [
    {
     "data": {
      "text/plain": [
       "<matplotlib.image.AxesImage at 0x2b1729318e0>"
      ]
     },
     "execution_count": 28,
     "metadata": {},
     "output_type": "execute_result"
    },
    {
     "data": {
      "image/png": "[encoded data removed]",
      "text/plain": [
       "<Figure size 432x288 with 1 Axes>"
      ]
     },
     "metadata": {
      "needs_background": "light"
     },
     "output_type": "display_data"
    }
   ],
   "source": [
    "plt.imshow(pic)"
   ]
  },
  {
   "cell_type": "code",
   "execution_count": 8,
   "metadata": {},
   "outputs": [
    {
     "data": {
      "text/plain": [
       "(50, 1)"
      ]
     },
     "execution_count": 8,
     "metadata": {},
     "output_type": "execute_result"
    }
   ],
   "source": [
    "linearize_image = pic.flatten().reshape((-1, 1))\n",
    "linearize_image.shape"
   ]
  },
  {
   "cell_type": "code",
   "execution_count": 22,
   "metadata": {},
   "outputs": [
    {
     "data": {
      "text/plain": [
       "[<matplotlib.lines.Line2D at 0x2b1727dd7f0>]"
      ]
     },
     "execution_count": 22,
     "metadata": {},
     "output_type": "execute_result"
    },
    {
     "data": {
      "image/png": "[encoded data removed]",
      "text/plain": [
       "<Figure size 432x288 with 1 Axes>"
      ]
     },
     "metadata": {
      "needs_background": "light"
     },
     "output_type": "display_data"
    }
   ],
   "source": [
    "pdf = linearize_image / np.sum(linearize_image)\n",
    "cdf = np.cumsum(pdf)\n",
    "plt.plot(cdf)"
   ]
  },
  {
   "cell_type": "code",
   "execution_count": 21,
   "metadata": {},
   "outputs": [
    {
     "data": {
      "text/plain": [
       "array([0.64285714, 1.        , 0.        , 1.        , 1.        ,\n",
       "       0.07142857, 1.        , 0.78571429, 1.        , 1.        ])"
      ]
     },
     "execution_count": 21,
     "metadata": {},
     "output_type": "execute_result"
    }
   ],
   "source": [
    "samples = random.sample(list(cdf), 10)\n",
    "np.array(samples).T"
   ]
  },
  {
   "cell_type": "code",
   "execution_count": 1,
   "metadata": {},
   "outputs": [],
   "source": [
    "import numpy as np"
   ]
  },
  {
   "cell_type": "code",
   "execution_count": 7,
   "metadata": {},
   "outputs": [],
   "source": [
    "x = np.array([[.8,-.2],[.9,-.1],[-.4,.6]])\n",
    "output = np.maximum(x, 0)\n"
   ]
  },
  {
   "cell_type": "code",
   "execution_count": 8,
   "metadata": {},
   "outputs": [
    {
     "data": {
      "text/plain": [
       "array([[0.8, 0. ],\n",
       "       [0.9, 0. ],\n",
       "       [0. , 0.6]])"
      ]
     },
     "execution_count": 8,
     "metadata": {},
     "output_type": "execute_result"
    }
   ],
   "source": [
    "output"
   ]
  },
  {
   "cell_type": "code",
   "execution_count": 10,
   "metadata": {},
   "outputs": [],
   "source": [
    "m = 3\n",
    "input_tensor = np.array([[.8,.2],[.9,.1],[.4,.6]])\n",
    "label_tensor = np.array([[1,0],[1,0],[0,1]])\n",
    "log_likelihood = -np.log(np.add(input_tensor[range(m), label_tensor.argmax(axis=1)], np.finfo(float).eps))\n",
    "loss = np.sum(log_likelihood)"
   ]
  },
  {
   "cell_type": "code",
   "execution_count": 12,
   "metadata": {},
   "outputs": [
    {
     "data": {
      "text/plain": [
       "array([0.22314355, 0.10536052, 0.51082562])"
      ]
     },
     "execution_count": 12,
     "metadata": {},
     "output_type": "execute_result"
    }
   ],
   "source": [
    "log_likelihood"
   ]
  },
  {
   "cell_type": "code",
   "execution_count": 13,
   "metadata": {},
   "outputs": [
    {
     "data": {
      "text/plain": [
       "array([0.8, 0.9, 0.6])"
      ]
     },
     "execution_count": 13,
     "metadata": {},
     "output_type": "execute_result"
    }
   ],
   "source": [
    "input_tensor[range(m), label_tensor.argmax(axis=1)]"
   ]
  },
  {
   "cell_type": "code",
   "execution_count": 14,
   "metadata": {},
   "outputs": [
    {
     "data": {
      "text/plain": [
       "array([0.8, 0.9, 0.6])"
      ]
     },
     "execution_count": 14,
     "metadata": {},
     "output_type": "execute_result"
    }
   ],
   "source": [
    "np.add(input_tensor[range(m), label_tensor.argmax(axis=1)], np.finfo(float).eps)"
   ]
  },
  {
   "cell_type": "code",
   "execution_count": 17,
   "metadata": {},
   "outputs": [
    {
     "data": {
      "text/plain": [
       "array([0.22314355, 0.10536052, 0.51082562])"
      ]
     },
     "execution_count": 17,
     "metadata": {},
     "output_type": "execute_result"
    }
   ],
   "source": [
    "log = -np.log(np.add(input_tensor[range(m), label_tensor.argmax(axis=1)], np.finfo(float).eps))\n",
    "log"
   ]
  },
  {
   "cell_type": "code",
   "execution_count": 18,
   "metadata": {},
   "outputs": [
    {
     "data": {
      "text/plain": [
       "array([4.48142012, 9.49122158, 1.95761519])"
      ]
     },
     "execution_count": 18,
     "metadata": {},
     "output_type": "execute_result"
    }
   ],
   "source": [
    "1/log"
   ]
  },
  {
   "cell_type": "code",
   "execution_count": 19,
   "metadata": {},
   "outputs": [
    {
     "data": {
      "text/plain": [
       "array([[-1.25      ,  0.        ],\n",
       "       [-1.11111111,  0.        ],\n",
       "       [ 0.        , -1.66666667]])"
      ]
     },
     "execution_count": 19,
     "metadata": {},
     "output_type": "execute_result"
    }
   ],
   "source": [
    "-label_tensor/input_tensor"
   ]
  },
  {
   "cell_type": "code",
   "execution_count": 54,
   "metadata": {},
   "outputs": [],
   "source": [
    "x = 0\n",
    "class Count:\n",
    "    global all_count\n",
    "    all_count = []\n",
    "   \n",
    "    def __init__(self, test):\n",
    "        self.count = 0\n",
    "        self.test = test\n",
    "    def mycount(self):\n",
    "        self.count = self.count+1\n",
    "       \n",
    "        self.test = 5\n",
    "        all_count.append(self.count)\n",
    "        return self.count\n",
    "    def doublecount(self):\n",
    "        self.test = self.test+1\n",
    "        return self.test"
   ]
  },
  {
   "cell_type": "code",
   "execution_count": 55,
   "metadata": {},
   "outputs": [
    {
     "ename": "TypeError",
     "evalue": "__init__() missing 1 required positional argument: 'test'",
     "output_type": "error",
     "traceback": [
      "\u001b[1;31m---------------------------------------------------------------------------\u001b[0m",
      "\u001b[1;31mTypeError\u001b[0m                                 Traceback (most recent call last)",
      "\u001b[1;32m<ipython-input-55-f5a491d2eba7>\u001b[0m in \u001b[0;36m<module>\u001b[1;34m\u001b[0m\n\u001b[1;32m----> 1\u001b[1;33m \u001b[0mx1\u001b[0m \u001b[1;33m=\u001b[0m \u001b[0mCount\u001b[0m\u001b[1;33m(\u001b[0m\u001b[1;33m)\u001b[0m\u001b[1;33m\u001b[0m\u001b[1;33m\u001b[0m\u001b[0m\n\u001b[0m\u001b[0;32m      2\u001b[0m \u001b[0my\u001b[0m \u001b[1;33m=\u001b[0m \u001b[0mx1\u001b[0m\u001b[1;33m.\u001b[0m\u001b[0mmycount\u001b[0m\u001b[1;33m(\u001b[0m\u001b[1;33m)\u001b[0m\u001b[1;33m\u001b[0m\u001b[1;33m\u001b[0m\u001b[0m\n\u001b[0;32m      3\u001b[0m \u001b[0mall_count\u001b[0m\u001b[1;33m\u001b[0m\u001b[1;33m\u001b[0m\u001b[0m\n",
      "\u001b[1;31mTypeError\u001b[0m: __init__() missing 1 required positional argument: 'test'"
     ]
    }
   ],
   "source": [
    "x1 = Count()\n",
    "y = x1.mycount()\n",
    "all_count"
   ]
  },
  {
   "cell_type": "code",
   "execution_count": 29,
   "metadata": {},
   "outputs": [
    {
     "name": "stdout",
     "output_type": "stream",
     "text": [
      "1\n",
      "1\n",
      "1\n",
      "1\n",
      "1\n",
      "1\n",
      "1\n",
      "1\n",
      "1\n",
      "1\n",
      "1\n"
     ]
    }
   ],
   "source": [
    "g_c = 0\n",
    "\n",
    "class TestClass():\n",
    "    global g_c\n",
    "    g_c = 1\n",
    "    def run(self):\n",
    "        for i in range(10):\n",
    "            g_c = 1 \n",
    "            print(g_c)\n",
    "\n",
    "t = TestClass()\n",
    "t.run()\n",
    "\n",
    "print(g_c)"
   ]
  },
  {
   "cell_type": "code",
   "execution_count": 43,
   "metadata": {},
   "outputs": [
    {
     "name": "stdout",
     "output_type": "stream",
     "text": [
      "i=  -1\n",
      "7\n",
      "i=  -2\n",
      "6\n",
      "i=  -3\n",
      "5\n",
      "i=  -4\n",
      "9\n",
      "i=  -5\n",
      "3\n",
      "i=  -6\n",
      "2\n"
     ]
    }
   ],
   "source": [
    "x = [1,2,3,9,5,6,7]\n",
    "\n",
    "for i in range (-1,-len(x),-1):\n",
    "    print(\"i= \",i )\n",
    "    print(x[i])\n",
    "    "
   ]
  },
  {
   "cell_type": "code",
   "execution_count": 31,
   "metadata": {},
   "outputs": [
    {
     "data": {
      "text/plain": [
       "range(-1, -7)"
      ]
     },
     "execution_count": 31,
     "metadata": {},
     "output_type": "execute_result"
    }
   ],
   "source": [
    "range (-1,-len(x))"
   ]
  },
  {
   "cell_type": "code",
   "execution_count": 47,
   "metadata": {},
   "outputs": [
    {
     "ename": "AttributeError",
     "evalue": "'list' object has no attribute 'appendleft'",
     "output_type": "error",
     "traceback": [
      "\u001b[1;31m---------------------------------------------------------------------------\u001b[0m",
      "\u001b[1;31mAttributeError\u001b[0m                            Traceback (most recent call last)",
      "\u001b[1;32m<ipython-input-47-50d935814852>\u001b[0m in \u001b[0;36m<module>\u001b[1;34m\u001b[0m\n\u001b[0;32m      1\u001b[0m \u001b[0ml\u001b[0m \u001b[1;33m=\u001b[0m \u001b[1;33m[\u001b[0m\u001b[1;36m1\u001b[0m\u001b[1;33m]\u001b[0m\u001b[1;33m\u001b[0m\u001b[1;33m\u001b[0m\u001b[0m\n\u001b[1;32m----> 2\u001b[1;33m \u001b[0ml\u001b[0m\u001b[1;33m.\u001b[0m\u001b[0mappendleft\u001b[0m\u001b[1;33m(\u001b[0m\u001b[1;36m2\u001b[0m\u001b[1;33m)\u001b[0m\u001b[1;33m\u001b[0m\u001b[1;33m\u001b[0m\u001b[0m\n\u001b[0m",
      "\u001b[1;31mAttributeError\u001b[0m: 'list' object has no attribute 'appendleft'"
     ]
    }
   ],
   "source": [
    "l = [1]\n",
    "l.appendleft(2)"
   ]
  },
  {
   "cell_type": "code",
   "execution_count": 4,
   "metadata": {},
   "outputs": [
    {
     "data": {
      "text/plain": [
       "array([0., 1., 0., 0., 0., 0., 0., 0., 0., 0.])"
      ]
     },
     "execution_count": 4,
     "metadata": {},
     "output_type": "execute_result"
    }
   ],
   "source": [
    "import numpy as np\n",
    "input_tensor = np.zeros((10)).squeeze()\n",
    "num = np.array([1])\n",
    "input_tensor[1] = 1\n",
    "input_tensor"
   ]
  },
  {
   "cell_type": "code",
   "execution_count": 11,
   "metadata": {},
   "outputs": [
    {
     "ename": "ValueError",
     "evalue": "all the input arrays must have same number of dimensions",
     "output_type": "error",
     "traceback": [
      "\u001b[1;31m---------------------------------------------------------------------------\u001b[0m",
      "\u001b[1;31mValueError\u001b[0m                                Traceback (most recent call last)",
      "\u001b[1;32m<ipython-input-11-3c9c098847b3>\u001b[0m in \u001b[0;36m<module>\u001b[1;34m\u001b[0m\n\u001b[1;32m----> 1\u001b[1;33m \u001b[0mx\u001b[0m \u001b[1;33m=\u001b[0m \u001b[0mnp\u001b[0m\u001b[1;33m.\u001b[0m\u001b[0mconcatenate\u001b[0m\u001b[1;33m(\u001b[0m\u001b[1;33m[\u001b[0m\u001b[0minput_tensor\u001b[0m\u001b[1;33m,\u001b[0m\u001b[0mnum\u001b[0m\u001b[1;33m]\u001b[0m\u001b[1;33m,\u001b[0m \u001b[0maxis\u001b[0m \u001b[1;33m=\u001b[0m \u001b[1;36m0\u001b[0m\u001b[1;33m)\u001b[0m\u001b[1;33m\u001b[0m\u001b[1;33m\u001b[0m\u001b[0m\n\u001b[0m",
      "\u001b[1;31mValueError\u001b[0m: all the input arrays must have same number of dimensions"
     ]
    }
   ],
   "source": [
    "x = np.concatenate([input_tensor,num], axis = 0)"
   ]
  },
  {
   "cell_type": "code",
   "execution_count": 16,
   "metadata": {},
   "outputs": [
    {
     "name": "stdout",
     "output_type": "stream",
     "text": [
      "(2, 3)\n",
      "(2, 1)\n"
     ]
    },
    {
     "data": {
      "text/plain": [
       "array([[1, 2, 3, 1],\n",
       "       [4, 5, 6, 1]])"
      ]
     },
     "execution_count": 16,
     "metadata": {},
     "output_type": "execute_result"
    }
   ],
   "source": [
    "a = np.array([[1, 2, 3],[4,5,6]])\n",
    "b = np.array([[1],[1]])\n",
    "print(a.shape)\n",
    "print(b.shape)\n",
    "np.concatenate([a, b], axis=1)"
   ]
  },
  {
   "cell_type": "code",
   "execution_count": 17,
   "metadata": {},
   "outputs": [
    {
     "data": {
      "text/plain": [
       "array([[1.        , 2.        ],\n",
       "       [4.        , 5.        ],\n",
       "       [3.        , 6.        ],\n",
       "       [0.59802894, 0.30023088]])"
      ]
     },
     "execution_count": 17,
     "metadata": {},
     "output_type": "execute_result"
    }
   ],
   "source": [
    "a = np.array([[1, 2],[4,5],[3,6]])\n",
    "bias = np.random.rand(1, 2)\n",
    "weight = np.concatenate([a, bias], axis=0)\n",
    "weight"
   ]
  },
  {
   "cell_type": "code",
   "execution_count": 25,
   "metadata": {},
   "outputs": [],
   "source": [
    "a = np.array([[1, 2],[4,5],[3,6],[7,8]])\n",
    "w,x,y = np.array_split(a, 3)"
   ]
  },
  {
   "cell_type": "code",
   "execution_count": 26,
   "metadata": {},
   "outputs": [
    {
     "data": {
      "text/plain": [
       "array([[1, 2],\n",
       "       [4, 5]])"
      ]
     },
     "execution_count": 26,
     "metadata": {},
     "output_type": "execute_result"
    }
   ],
   "source": [
    "w"
   ]
  },
  {
   "cell_type": "code",
   "execution_count": 31,
   "metadata": {},
   "outputs": [
    {
     "name": "stdout",
     "output_type": "stream",
     "text": [
      "1\n",
      "1\n",
      "1\n",
      "1\n",
      "1\n",
      "1\n",
      "1\n",
      "1\n",
      "1\n",
      "1\n"
     ]
    }
   ],
   "source": [
    "import copy\n",
    "copy.deepcopy(TestClass.run(x))"
   ]
  },
  {
   "cell_type": "code",
   "execution_count": 1,
   "metadata": {},
   "outputs": [],
   "source": [
    "def split(matrix):\n",
    "  a = [row[:len(row) - 1] for row in matrix]\n",
    "  b = [row[len(row) - 1] for row in matrix]\n",
    "  return a, b"
   ]
  },
  {
   "cell_type": "code",
   "execution_count": 2,
   "metadata": {},
   "outputs": [],
   "source": [
    "matrix = [\n",
    " [1, 0, 0, 4],\n",
    " [1, 0, 0, 2],\n",
    " [4, 3, 1, 6]\n",
    "]\n",
    "\n",
    "a, b = split(matrix)"
   ]
  },
  {
   "cell_type": "code",
   "execution_count": 10,
   "metadata": {},
   "outputs": [],
   "source": [
    "import numpy as np"
   ]
  },
  {
   "cell_type": "code",
   "execution_count": 12,
   "metadata": {},
   "outputs": [
    {
     "data": {
      "text/plain": [
       "array([[1, 0, 0],\n",
       "       [1, 0, 0],\n",
       "       [4, 3, 1]])"
      ]
     },
     "execution_count": 12,
     "metadata": {},
     "output_type": "execute_result"
    }
   ],
   "source": [
    "a = np.array([i[:4 - 1] for i in matrix])\n",
    "a"
   ]
  },
  {
   "cell_type": "code",
   "execution_count": 8,
   "metadata": {},
   "outputs": [
    {
     "data": {
      "text/plain": [
       "list"
      ]
     },
     "execution_count": 8,
     "metadata": {},
     "output_type": "execute_result"
    }
   ],
   "source": [
    "type(a)"
   ]
  },
  {
   "cell_type": "code",
   "execution_count": 24,
   "metadata": {},
   "outputs": [
    {
     "data": {
      "text/plain": [
       "array([[1, 0, 0, 4],\n",
       "       [1, 0, 0, 2]])"
      ]
     },
     "execution_count": 24,
     "metadata": {},
     "output_type": "execute_result"
    }
   ],
   "source": [
    "matrix = np.array([\n",
    " [1, 0, 0, 4],\n",
    " [1, 0, 0, 2],\n",
    " [4, 3, 1, 6]\n",
    "])\n",
    "b = matrix[:-1, :]\n",
    "b"
   ]
  },
  {
   "cell_type": "code",
   "execution_count": 25,
   "metadata": {},
   "outputs": [
    {
     "data": {
      "text/plain": [
       "array([[4, 3, 1, 6]])"
      ]
     },
     "execution_count": 25,
     "metadata": {},
     "output_type": "execute_result"
    }
   ],
   "source": [
    "c = matrix[-1:, :]\n",
    "c"
   ]
  },
  {
   "cell_type": "code",
   "execution_count": 20,
   "metadata": {},
   "outputs": [
    {
     "data": {
      "text/plain": [
       "False"
      ]
     },
     "execution_count": 20,
     "metadata": {},
     "output_type": "execute_result"
    }
   ],
   "source": [
    "x =np.array([0])\n",
    "f = np.any(x)\n",
    "f"
   ]
  },
  {
   "cell_type": "code",
   "execution_count": 21,
   "metadata": {},
   "outputs": [
    {
     "name": "stdout",
     "output_type": "stream",
     "text": [
      "false\n"
     ]
    }
   ],
   "source": [
    "if not f:\n",
    "    print(\"false\")\n",
    "else:\n",
    "    print(\"true\")"
   ]
  },
  {
   "cell_type": "code",
   "execution_count": 22,
   "metadata": {},
   "outputs": [
    {
     "data": {
      "text/plain": [
       "array([[1, 0, 0],\n",
       "       [1, 0, 0],\n",
       "       [4, 3, 1]])"
      ]
     },
     "execution_count": 22,
     "metadata": {},
     "output_type": "execute_result"
    }
   ],
   "source": [
    "matrix[:, :3]"
   ]
  },
  {
   "cell_type": "code",
   "execution_count": 14,
   "metadata": {},
   "outputs": [
    {
     "data": {
      "text/plain": [
       "array([62, 57, 29, 23, 95, 38, 75, 23,  4, 42])"
      ]
     },
     "execution_count": 14,
     "metadata": {},
     "output_type": "execute_result"
    }
   ],
   "source": [
    "import numpy as np\n",
    "a = (np.around(np.random.uniform(0, 100, 10)))\n",
    "a.astype(int)"
   ]
  },
  {
   "cell_type": "code",
   "execution_count": 23,
   "metadata": {},
   "outputs": [
    {
     "name": "stdout",
     "output_type": "stream",
     "text": [
      "[ 1  3  4  6  7  9 10]\n",
      "(7,)\n"
     ]
    }
   ],
   "source": [
    "x = np.array([1,2,3,4,5,6,7,8,9,10])\n",
    "y = [2,5,8]\n",
    "z = x\n",
    "for i in y:\n",
    "    z = np.delete(z, np.where(z == i))\n",
    "\n",
    "print(z)\n",
    "print(z.shape)"
   ]
  },
  {
   "cell_type": "code",
   "execution_count": 22,
   "metadata": {},
   "outputs": [
    {
     "data": {
      "text/plain": [
       "array([ 1, 10,  1,  3,  3])"
      ]
     },
     "execution_count": 22,
     "metadata": {},
     "output_type": "execute_result"
    }
   ],
   "source": [
    "w = np.random.choice(z,5)\n",
    "w"
   ]
  },
  {
   "cell_type": "code",
   "execution_count": 23,
   "metadata": {},
   "outputs": [
    {
     "name": "stdout",
     "output_type": "stream",
     "text": [
      "(2, 14, 14)\n"
     ]
    }
   ],
   "source": [
    "import numpy as np\n",
    "from scipy import ndimage\n",
    "i = np.arange(392).reshape(2, 14, 14)\n",
    "w = np.ones((1,3,3))\n",
    "iw = ndimage.convolve(i, w, mode='constant', cval=0.0)\n",
    "#pad = np.pad(i,((0,0), (1,1), (1,1)), mode='constant', constant_values = (0,0))\n",
    "print(iw.shape)\n"
   ]
  },
  {
   "cell_type": "code",
   "execution_count": 18,
   "metadata": {},
   "outputs": [
    {
     "name": "stdout",
     "output_type": "stream",
     "text": [
      "3\n",
      "6\n"
     ]
    }
   ],
   "source": [
    "x = np.random.rand(4,2,6,6)\n",
    "y = x[3]\n",
    "print(len(y.shape))\n",
    "print(y.shape[2])"
   ]
  },
  {
   "cell_type": "code",
   "execution_count": 50,
   "metadata": {},
   "outputs": [
    {
     "name": "stdout",
     "output_type": "stream",
     "text": [
      "[[ 0  1  2  3  4  5  6  7  8  9 10 11 12 13 14]\n",
      " [15 16 17 18 19 20 21 22 23 24 25 26 27 28 29]\n",
      " [30 31 32 33 34 35 36 37 38 39 40 41 42 43 44]]\n",
      "[[1. 1. 1.]\n",
      " [1. 1. 1.]\n",
      " [1. 1. 1.]]\n",
      "(1, 15)\n",
      "172.0\n"
     ]
    }
   ],
   "source": [
    "from scipy import signal\n",
    "i = np.arange(45).reshape(3, 15)\n",
    "w = np.ones((3, 3))\n",
    "s = signal.correlate(i,w,mode='same')\n",
    "print(i)\n",
    "print(w)\n",
    "a = np.add(s[-2],1).reshape(1, -1)\n",
    "#print(s[1].shape)\n",
    "#print(s[1].reshape(1,-1).shape)\n",
    "print(a.shape)\n",
    "print(a[0,4])"
   ]
  },
  {
   "cell_type": "code",
   "execution_count": 65,
   "metadata": {},
   "outputs": [
    {
     "name": "stdout",
     "output_type": "stream",
     "text": [
      "2\n"
     ]
    }
   ],
   "source": [
    "t = (1,2)\n",
    "a = 5\n",
    "print(len(t))"
   ]
  },
  {
   "cell_type": "code",
   "execution_count": 112,
   "metadata": {},
   "outputs": [
    {
     "data": {
      "text/plain": [
       "(2, 3)"
      ]
     },
     "execution_count": 112,
     "metadata": {},
     "output_type": "execute_result"
    }
   ],
   "source": [
    "lst = []\n",
    "a = np.array([1,2,3])\n",
    "b = np.array([4,5,6])\n",
    "lst.append(a)\n",
    "\n",
    "lst.append(b)\n",
    "lst\n",
    "array = np.array(lst)\n",
    "array.shape"
   ]
  },
  {
   "cell_type": "code",
   "execution_count": 117,
   "metadata": {},
   "outputs": [
    {
     "data": {
      "text/plain": [
       "0.8175814872806976"
      ]
     },
     "execution_count": 117,
     "metadata": {},
     "output_type": "execute_result"
    }
   ],
   "source": [
    "x = float(np.random.rand(1))\n",
    "x"
   ]
  },
  {
   "cell_type": "code",
   "execution_count": 119,
   "metadata": {},
   "outputs": [
    {
     "data": {
      "text/plain": [
       "array([[[ 2,  3,  4],\n",
       "        [ 5,  6,  7],\n",
       "        [ 8,  9, 10]],\n",
       "\n",
       "       [[11, 12, 13],\n",
       "        [14, 15, 16],\n",
       "        [17, 18, 19]],\n",
       "\n",
       "       [[20, 21, 22],\n",
       "        [23, 24, 25],\n",
       "        [26, 27, 28]]])"
      ]
     },
     "execution_count": 119,
     "metadata": {},
     "output_type": "execute_result"
    }
   ],
   "source": [
    "i = np.arange(27).reshape(3,3,3)\n",
    "np.add(i, 2)"
   ]
  },
  {
   "cell_type": "code",
   "execution_count": 120,
   "metadata": {},
   "outputs": [
    {
     "name": "stdout",
     "output_type": "stream",
     "text": [
      "(2, 1, 3, 3)\n"
     ]
    }
   ],
   "source": [
    "weights_c1 = np.array([[-1, 0, 1], [-2, 0, 2], [-1, 0, 1]], dtype=np.float64) / 2.0\n",
    "weights_c2 = np.copy(weights_c1.T)\n",
    "weights_c1 = weights_c1[np.newaxis]\n",
    "weights_c2 = weights_c2[np.newaxis]\n",
    "weights = np.array([weights_c1, weights_c2])\n",
    "print(weights.shape)"
   ]
  },
  {
   "cell_type": "code",
   "execution_count": 176,
   "metadata": {},
   "outputs": [
    {
     "name": "stdout",
     "output_type": "stream",
     "text": [
      "(3, 3)\n"
     ]
    }
   ],
   "source": [
    "weights[1] = np.random.rand(1,3,3)\n",
    "print(weights[1,0].shape)"
   ]
  },
  {
   "cell_type": "code",
   "execution_count": 125,
   "metadata": {},
   "outputs": [
    {
     "data": {
      "text/plain": [
       "(2, 1, 3, 3)"
      ]
     },
     "execution_count": 125,
     "metadata": {},
     "output_type": "execute_result"
    }
   ],
   "source": [
    "w = np.empty([2, 1, 3, 3])\n",
    "w.shape"
   ]
  },
  {
   "cell_type": "code",
   "execution_count": 135,
   "metadata": {},
   "outputs": [
    {
     "data": {
      "text/plain": [
       "(2,)"
      ]
     },
     "execution_count": 135,
     "metadata": {},
     "output_type": "execute_result"
    }
   ],
   "source": [
    "b = np.array([0.5, 1])\n",
    "b.shape"
   ]
  },
  {
   "cell_type": "code",
   "execution_count": 15,
   "metadata": {},
   "outputs": [
    {
     "name": "stdout",
     "output_type": "stream",
     "text": [
      "(1, 14, 14)\n",
      "[[  0   1   2   3   4   5   6   7   8   9  10  11  12  13]\n",
      " [ 14  15  16  17  18  19  20  21  22  23  24  25  26  27]\n",
      " [ 28  29  30  31  32  33  34  35  36  37  38  39  40  41]\n",
      " [ 42  43  44  45  46  47  48  49  50  51  52  53  54  55]\n",
      " [ 56  57  58  59  60  61  62  63  64  65  66  67  68  69]\n",
      " [ 70  71  72  73  74  75  76  77  78  79  80  81  82  83]\n",
      " [ 84  85  86  87  88  89  90  91  92  93  94  95  96  97]\n",
      " [ 98  99 100 101 102 103 104 105 106 107 108 109 110 111]\n",
      " [112 113 114 115 116 117 118 119 120 121 122 123 124 125]\n",
      " [126 127 128 129 130 131 132 133 134 135 136 137 138 139]\n",
      " [140 141 142 143 144 145 146 147 148 149 150 151 152 153]\n",
      " [154 155 156 157 158 159 160 161 162 163 164 165 166 167]\n",
      " [168 169 170 171 172 173 174 175 176 177 178 179 180 181]\n",
      " [182 183 184 185 186 187 188 189 190 191 192 193 194 195]]\n",
      "27\n"
     ]
    }
   ],
   "source": [
    "i = np.arange(392).reshape(1, 2, 14, 14)\n",
    "print(i[:,1].shape)\n",
    "print(i[0][0])\n",
    "print(i[0][0][1, -1])"
   ]
  },
  {
   "cell_type": "code",
   "execution_count": 145,
   "metadata": {},
   "outputs": [
    {
     "name": "stdout",
     "output_type": "stream",
     "text": [
      "(1, 2, 14, 14)\n"
     ]
    }
   ],
   "source": [
    "i = np.arange(196).reshape(1, 1, 14, 14)\n",
    "err_next = np.repeat(i, 2, axis=1) / 4\n",
    "err_next[0, 1] *= -1\n",
    "print(err_next.shape)"
   ]
  },
  {
   "cell_type": "code",
   "execution_count": 28,
   "metadata": {},
   "outputs": [
    {
     "name": "stdout",
     "output_type": "stream",
     "text": [
      "[[ 0  1  2  3  4  5  6  7]\n",
      " [ 8  9 10 11 12 13 14 15]\n",
      " [16 17 18 19 20 21 22 23]\n",
      " [24 25 26 27 28 29 30 31]]\n",
      "[[ 0  1  2]\n",
      " [ 3  4  5]\n",
      " [ 6  7  8]\n",
      " [ 9 10 11]]\n",
      "4\n"
     ]
    }
   ],
   "source": [
    "from scipy import signal\n",
    "import numpy as np\n",
    "from scipy import ndimage\n",
    "i = np.arange(32).reshape(4,8) #(im, ker, sizex, sizey)\n",
    "w = np.arange(12).reshape(4,3) #(ker, size, size)\n",
    "s = ndimage.convolve(i, w, mode='constant', cval=0.0)\n",
    "#s = signal.correlate(i,w,mode='same')\n",
    "print(i)\n",
    "print(w)\n",
    "print(s.shape[0])"
   ]
  },
  {
   "cell_type": "code",
   "execution_count": 177,
   "metadata": {},
   "outputs": [
    {
     "data": {
      "text/plain": [
       "(2, 1, 3, 3)"
      ]
     },
     "execution_count": 177,
     "metadata": {},
     "output_type": "execute_result"
    }
   ],
   "source": [
    "expected_gradient_weights = np.array([[\n",
    "    [[ 18.75,  22.5 ,  18.75],\n",
    "     [ 22.5 ,  27.  ,  22.5 ],\n",
    "     [ 18.75,  22.5 ,  18.75]]],\n",
    "   [[[-18.75, -22.5 , -18.75],\n",
    "     [-22.5 , -27.  , -22.5 ],\n",
    "     [-18.75, -22.5 , -18.75]]]])\n",
    "expected_gradient_weights.shape"
   ]
  },
  {
   "cell_type": "code",
   "execution_count": 41,
   "metadata": {},
   "outputs": [
    {
     "name": "stdout",
     "output_type": "stream",
     "text": [
      "(5, 9)\n",
      "<class 'numpy.int32'>\n"
     ]
    }
   ],
   "source": [
    "import numpy as np\n",
    "from scipy.ndimage import correlate\n",
    "from scipy import signal\n",
    "i = np.arange(308).reshape(14, 22) #(im, ker, sizex, sizey)\n",
    "#e = np.ones((5,7))\n",
    "e = np.arange(140).reshape(10, 14) #(ker, size, size)\n",
    "s = signal.correlate2d(i,e,mode='valid')\n",
    "#s = correlate(i, e)\n",
    "# print(i)\n",
    "# print(e)\n",
    "# print(s)\n",
    "print(s.shape)\n",
    "print(type(np.sum(e)))"
   ]
  },
  {
   "cell_type": "code",
   "execution_count": 24,
   "metadata": {},
   "outputs": [
    {
     "name": "stdout",
     "output_type": "stream",
     "text": [
      "1\n",
      "2\n",
      "3\n"
     ]
    }
   ],
   "source": [
    "l = [1]\n",
    "t = (1,3)\n",
    "print(len(l))\n",
    "print(len(t))\n",
    "print(t[-1])"
   ]
  },
  {
   "cell_type": "code",
   "execution_count": 2,
   "metadata": {},
   "outputs": [
    {
     "name": "stdout",
     "output_type": "stream",
     "text": [
      "(2, 3, 3)\n"
     ]
    }
   ],
   "source": [
    "import numpy as np\n",
    "i = np.arange(18).reshape(2, 3, 3)\n",
    "s = np.add(i, 5)\n",
    "print(s.shape)"
   ]
  },
  {
   "cell_type": "code",
   "execution_count": 26,
   "metadata": {},
   "outputs": [
    {
     "name": "stdout",
     "output_type": "stream",
     "text": [
      "(1, 1, 3, 3)\n"
     ]
    }
   ],
   "source": [
    "a = (1./15.) * np.array([[[1, 2, 1], [2, 3, 2], [1, 2, 1]]])\n",
    "b = np.expand_dims(a, 0)\n",
    "print(b.shape)"
   ]
  },
  {
   "cell_type": "code",
   "execution_count": 54,
   "metadata": {},
   "outputs": [
    {
     "name": "stdout",
     "output_type": "stream",
     "text": [
      "(15,)\n"
     ]
    }
   ],
   "source": [
    "i = np.arange(15).reshape(1, 15)\n",
    "s = i.squeeze(axis=0)\n",
    "print(s.shape)"
   ]
  },
  {
   "cell_type": "code",
   "execution_count": 16,
   "metadata": {},
   "outputs": [
    {
     "name": "stdout",
     "output_type": "stream",
     "text": [
      "3\n"
     ]
    }
   ],
   "source": [
    "a = []\n",
    "b = [1,2,3]\n",
    "a = b\n",
    "a\n",
    "print(b[-1])"
   ]
  },
  {
   "cell_type": "code",
   "execution_count": 20,
   "metadata": {},
   "outputs": [
    {
     "name": "stdout",
     "output_type": "stream",
     "text": [
      "[[[7 7 7]\n",
      "  [7 7 7]\n",
      "  [7 7 7]]\n",
      "\n",
      " [[7 7 7]\n",
      "  [7 7 7]\n",
      "  [7 7 7]]]\n",
      "[[[0 0 0 0 0]\n",
      "  [0 7 7 7 0]\n",
      "  [0 7 7 7 0]\n",
      "  [0 7 7 7 0]\n",
      "  [0 0 0 0 0]]\n",
      "\n",
      " [[0 0 0 0 0]\n",
      "  [0 7 7 7 0]\n",
      "  [0 7 7 7 0]\n",
      "  [0 7 7 7 0]\n",
      "  [0 0 0 0 0]]]\n"
     ]
    }
   ],
   "source": [
    "import numpy as np\n",
    "f1 = np.full((2, 3, 3), 7)\n",
    "f2 = np.pad(f1, ((0,0), (1,1), (1,1)), mode='constant', constant_values=(0, 0))\n",
    "print(f1)\n",
    "print(f2)"
   ]
  },
  {
   "cell_type": "code",
   "execution_count": 19,
   "metadata": {},
   "outputs": [
    {
     "name": "stdout",
     "output_type": "stream",
     "text": [
      "[[1 2 3]\n",
      " [4 5 6]]\n",
      "(array([1], dtype=int64), array([2], dtype=int64))\n",
      "5\n",
      "[1, 2]\n"
     ]
    }
   ],
   "source": [
    "#a = np.random.uniform(0,1,18).reshape((2,3,3))\n",
    "a = np.array([[1,2,3],[4,5,6]])\n",
    "print(a)\n",
    "indices = np.where(a ==  6)\n",
    "print(indices)\n",
    "print(a.argmax())\n",
    "l = [int(indices[0]), int(indices[1])]\n",
    "print(l)"
   ]
  },
  {
   "cell_type": "code",
   "execution_count": 20,
   "metadata": {},
   "outputs": [
    {
     "name": "stdout",
     "output_type": "stream",
     "text": [
      "0.6952218074473242\n",
      "0.33062650041059227\n",
      "0.04161455088253285\n"
     ]
    }
   ],
   "source": [
    "for r in a[0, 0]:\n",
    "    print(r)"
   ]
  },
  {
   "cell_type": "code",
   "execution_count": 23,
   "metadata": {},
   "outputs": [
    {
     "name": "stdout",
     "output_type": "stream",
     "text": [
      "(15,)\n"
     ]
    }
   ],
   "source": [
    "from scipy.ndimage import correlate1d\n",
    "i = np.arange(15).reshape(15) #(im, ker, sizex, sizey)\n",
    "#e = np.ones((5,7))\n",
    "e = np.arange(8).reshape(8) #(ker, size, size)\n",
    "out = correlate1d(i, weights=e)\n",
    "print(out.shape)"
   ]
  },
  {
   "cell_type": "code",
   "execution_count": 33,
   "metadata": {},
   "outputs": [
    {
     "data": {
      "text/plain": [
       "2"
      ]
     },
     "execution_count": 33,
     "metadata": {},
     "output_type": "execute_result"
    }
   ],
   "source": [
    "import math\n",
    "x = math.floor(5/2)\n",
    "x"
   ]
  },
  {
   "cell_type": "code",
   "execution_count": 48,
   "metadata": {},
   "outputs": [
    {
     "name": "stdout",
     "output_type": "stream",
     "text": [
      "3\n"
     ]
    }
   ],
   "source": [
    "lst = []\n",
    "i = np.arange(18).reshape(1,2,3,3)\n",
    "lst.append(i)\n",
    "#print(lst[0][:2,:2])\n",
    "print(i[0,0].shape[0])"
   ]
  },
  {
   "cell_type": "code",
   "execution_count": 3,
   "metadata": {},
   "outputs": [
    {
     "data": {
      "text/plain": [
       "18"
      ]
     },
     "execution_count": 3,
     "metadata": {},
     "output_type": "execute_result"
    }
   ],
   "source": [
    "import numpy as np\n",
    "i = np.arange(18).reshape(1,2,3,3)\n",
    "num = 1\n",
    "for x in i.shape:\n",
    "    num = (num * x)\n",
    "num"
   ]
  },
  {
   "cell_type": "code",
   "execution_count": 4,
   "metadata": {},
   "outputs": [
    {
     "data": {
      "text/plain": [
       "(2, 2, 4, 7)"
      ]
     },
     "execution_count": 4,
     "metadata": {},
     "output_type": "execute_result"
    }
   ],
   "source": [
    "x = np.random.uniform(-1, 1, (2, 2,4,7))\n",
    "x.shape"
   ]
  },
  {
   "cell_type": "code",
   "execution_count": 2,
   "metadata": {},
   "outputs": [
    {
     "name": "stdout",
     "output_type": "stream",
     "text": [
      "6\n",
      "0\n",
      "(array([0], dtype=int64),)\n",
      "[6]\n"
     ]
    }
   ],
   "source": [
    "import numpy as np\n",
    "a = np.array([[1,2,3,4,2,6,8,3,7,5],[2,4,6,9,2,5,3,7,1,9]])\n",
    "index = np.where(a == 8)\n",
    "print(index[1][0])\n",
    "print(int(np.random.choice(index[0])))\n",
    "find = np.where(index[0] == int(np.random.choice(index[0])))\n",
    "print(find)\n",
    "print(index[1])\n"
   ]
  },
  {
   "cell_type": "code",
   "execution_count": 23,
   "metadata": {},
   "outputs": [
    {
     "name": "stdout",
     "output_type": "stream",
     "text": [
      "[[1. 1. 1. 1. 1. 1. 1. 1. 1. 1.]\n",
      " [1. 1. 1. 1. 1. 1. 1. 1. 1. 1.]\n",
      " [1. 1. 1. 1. 1. 1. 1. 1. 1. 1.]\n",
      " [1. 1. 1. 1. 1. 1. 1. 1. 1. 1.]\n",
      " [1. 1. 1. 1. 1. 1. 1. 1. 1. 1.]]\n",
      "[[ True  True  True False  True  True False  True  True  True]\n",
      " [ True False False  True  True  True False  True  True  True]\n",
      " [ True False  True  True False  True  True  True  True  True]\n",
      " [ True  True  True  True  True False  True  True  True  True]\n",
      " [ True  True  True  True  True  True  True  True  True False]]\n",
      "[[1. 1. 1. 0. 1. 1. 0. 1. 1. 1.]\n",
      " [1. 0. 0. 1. 1. 1. 0. 1. 1. 1.]\n",
      " [1. 0. 1. 1. 0. 1. 1. 1. 1. 1.]\n",
      " [1. 1. 1. 1. 1. 0. 1. 1. 1. 1.]\n",
      " [1. 1. 1. 1. 1. 1. 1. 1. 1. 0.]]\n",
      "[[4. 4. 4. 0. 4. 4. 0. 4. 4. 4.]\n",
      " [4. 0. 0. 4. 4. 4. 0. 4. 4. 4.]\n",
      " [4. 0. 4. 4. 0. 4. 4. 4. 4. 4.]\n",
      " [4. 4. 4. 4. 4. 0. 4. 4. 4. 4.]\n",
      " [4. 4. 4. 4. 4. 4. 4. 4. 4. 0.]]\n",
      "32.800000000000004\n"
     ]
    }
   ],
   "source": [
    "import numpy as np\n",
    "a = np.ones((5,10))\n",
    "p = np.random.rand(5,10)<=.75\n",
    "d = a * p\n",
    "o = d * (1/.25)\n",
    "sum_over_mean = np.sum(np.mean(o, axis=0))\n",
    "print(a)\n",
    "print(p)\n",
    "print(d)\n",
    "print(o)\n",
    "print(sum_over_mean)"
   ]
  },
  {
   "cell_type": "code",
   "execution_count": 2,
   "metadata": {},
   "outputs": [
    {
     "data": {
      "text/plain": [
       "array([0.46048547, 0.14526078, 0.78436881])"
      ]
     },
     "execution_count": 2,
     "metadata": {},
     "output_type": "execute_result"
    }
   ],
   "source": [
    "import numpy as np\n",
    "a = np.random.rand(3)\n",
    "a"
   ]
  },
  {
   "cell_type": "code",
   "execution_count": 3,
   "metadata": {},
   "outputs": [
    {
     "data": {
      "text/plain": [
       "(200, 18)"
      ]
     },
     "execution_count": 3,
     "metadata": {},
     "output_type": "execute_result"
    }
   ],
   "source": [
    "input_shape = (2, 3, 3)\n",
    "input_size = np.prod(input_shape)\n",
    "input_tensor = np.abs(np.random.random((input_size, 200))).T\n",
    "input_tensor.shape"
   ]
  },
  {
   "cell_type": "code",
   "execution_count": 28,
   "metadata": {},
   "outputs": [
    {
     "name": "stdout",
     "output_type": "stream",
     "text": [
      "(200, 2, 3, 3)\n",
      "(200, 2, 9)\n",
      "(200, 9, 2)\n",
      "(1800, 2)\n",
      "(200, 9, 2)\n",
      "(200, 2, 9)\n",
      "(200, 2, 3, 3)\n"
     ]
    }
   ],
   "source": [
    "input_tensor_conv = np.random.uniform(-1, 1, (200, *input_shape))\n",
    "print(input_tensor_conv.shape)\n",
    "r1 = input_tensor_conv.reshape(input_tensor_conv.shape[0], input_tensor_conv.shape[1], -1)\n",
    "print(r1.shape)\n",
    "r2 = np.transpose(r1, (0, 2, 1))\n",
    "print(r2.shape)\n",
    "r3 = r2.reshape(-1, r2.shape[-1])\n",
    "print(r3.shape)\n",
    "r4 = r3.reshape(r2.shape)\n",
    "print(r4.shape)\n",
    "r5 = np.transpose(r4, (0, 2, 1))\n",
    "print(r5.shape)\n",
    "r6 = r5.reshape(input_tensor_conv.shape)\n",
    "print(r6.shape)"
   ]
  },
  {
   "cell_type": "code",
   "execution_count": 30,
   "metadata": {},
   "outputs": [
    {
     "name": "stdout",
     "output_type": "stream",
     "text": [
      "(2,)\n",
      "(2, 1)\n"
     ]
    },
    {
     "data": {
      "text/plain": [
       "(2,)"
      ]
     },
     "execution_count": 30,
     "metadata": {},
     "output_type": "execute_result"
    }
   ],
   "source": [
    "mean = np.mean(input_tensor)\n",
    "var = np.var(input_tensor, axis=1)\n",
    "print(var.shape)\n",
    "s = np.sqrt(np.add(var, np.finfo(float).eps)).reshape(-1,1)\n",
    "print(s.shape)\n",
    "d = input_tensor / s\n",
    "np.sum(d, axis=1).shape"
   ]
  },
  {
   "cell_type": "code",
   "execution_count": 11,
   "metadata": {},
   "outputs": [
    {
     "name": "stdout",
     "output_type": "stream",
     "text": [
      "[]\n"
     ]
    },
    {
     "data": {
      "text/plain": [
       "array([3., 4.])"
      ]
     },
     "execution_count": 11,
     "metadata": {},
     "output_type": "execute_result"
    }
   ],
   "source": [
    "mu = np.array([])\n",
    "print(mu)\n",
    "mu = np.append(mu, 3)\n",
    "mu = np.append(mu, 4)\n",
    "mu"
   ]
  },
  {
   "cell_type": "code",
   "execution_count": 30,
   "metadata": {},
   "outputs": [
    {
     "data": {
      "text/plain": [
       "array([0., 0., 0., 0., 0., 0., 0., 0., 0., 0., 0., 0., 0., 0., 0., 0., 0.,\n",
       "       0.])"
      ]
     },
     "execution_count": 30,
     "metadata": {},
     "output_type": "execute_result"
    }
   ],
   "source": [
    "z = np.zeros_like(input_tensor)\n",
    "z[0]"
   ]
  },
  {
   "cell_type": "code",
   "execution_count": 4,
   "metadata": {},
   "outputs": [
    {
     "data": {
      "text/plain": [
       "array([[11, 22, 33],\n",
       "       [ 4,  5,  6],\n",
       "       [ 1,  2,  3]])"
      ]
     },
     "execution_count": 4,
     "metadata": {},
     "output_type": "execute_result"
    }
   ],
   "source": [
    "import numpy as np\n",
    "a = np.array([[1,2,3], [4,5,6], [11,22,33]])\n",
    "b = np.flip(a,0)\n",
    "b"
   ]
  },
  {
   "cell_type": "code",
   "execution_count": 4,
   "metadata": {},
   "outputs": [
    {
     "name": "stdout",
     "output_type": "stream",
     "text": [
      "[[0.8030428  0.74143115 0.69995251 0.54707402 0.23758581 0.5834552\n",
      "  0.16715962 0.58853673 0.955674   0.83559976]\n",
      " [0.96285982 0.8822293  0.66372811 0.41084603 0.77492325 0.60401493\n",
      "  0.81545797 0.90839619 0.38301182 0.56620776]\n",
      " [0.64219811 0.64264393 0.61245408 0.52439075 0.07234458 0.55795796\n",
      "  0.23567443 0.99584385 0.21264328 0.43808043]\n",
      " [0.61224983 0.46411272 0.54596504 0.09567008 0.65958456 0.00712977\n",
      "  0.9626091  0.66843186 0.46681963 0.67069939]\n",
      " [0.64437878 0.80734054 0.68236613 0.67709612 0.07845171 0.92806924\n",
      "  0.57345085 0.5880633  0.36430732 0.61229248]\n",
      " [0.60732094 0.24219475 0.64485944 0.1736539  0.16634625 0.63143863\n",
      "  0.64579522 0.695174   0.44432637 0.54954774]\n",
      " [0.89027192 0.7714836  0.94484031 0.02998288 0.41019669 0.78229978\n",
      "  0.9957326  0.70917335 0.11635525 0.73786498]\n",
      " [0.6166256  0.56735462 0.27199136 0.22756391 0.54593343 0.39339675\n",
      "  0.79424935 0.26286316 0.02813611 0.72710715]\n",
      " [0.43917425 0.73673872 0.16578577 0.39043985 0.80119622 0.06058186\n",
      "  0.73247649 0.53749943 0.61357609 0.77153324]\n",
      " [0.18126279 0.97337436 0.19017654 0.56195772 0.24632863 0.64575932\n",
      "  0.38417941 0.93909053 0.08822129 0.03215925]]\n",
      "[[ True  True False False False False False False  True  True]\n",
      " [ True  True False False  True False  True  True False False]\n",
      " [False False False False False False False  True False False]\n",
      " [False False False False False False  True False False False]\n",
      " [False  True False False False  True False False False False]\n",
      " [False False False False False False False False False False]\n",
      " [ True  True  True False False  True  True  True False  True]\n",
      " [False False False False False False  True False False  True]\n",
      " [False  True False False  True False  True False False  True]\n",
      " [False  True False False False False False  True False False]]\n"
     ]
    }
   ],
   "source": [
    "import numpy as np\n",
    "a = np.random.rand(10, 10) \n",
    "print(a)\n",
    "b = a>= (1 - 0.3)\n",
    "print(b)"
   ]
  },
  {
   "cell_type": "code",
   "execution_count": 7,
   "metadata": {},
   "outputs": [
    {
     "name": "stdout",
     "output_type": "stream",
     "text": [
      "[1. 1. 0. 1. 0. 0. 0. 0. 1. 1.]\n",
      "[1.  1.  0.5 1.  0.5 0.5 0.5 0.5 1.  1. ]\n"
     ]
    }
   ],
   "source": [
    "test = np.random.choice([0., 1.],size=10 , p=[0.3, 1-0.3])\n",
    "print(test)\n",
    "test[test == 0] = 0.5\n",
    "print(test)"
   ]
  },
  {
   "cell_type": "code",
   "execution_count": 9,
   "metadata": {},
   "outputs": [
    {
     "data": {
      "text/plain": [
       "array([1, 2, 3])"
      ]
     },
     "execution_count": 9,
     "metadata": {},
     "output_type": "execute_result"
    }
   ],
   "source": [
    "a = np.array([1,2,3])\n",
    "a"
   ]
  },
  {
   "cell_type": "code",
   "execution_count": 10,
   "metadata": {},
   "outputs": [
    {
     "data": {
      "text/plain": [
       "3.7416573867739413"
      ]
     },
     "execution_count": 10,
     "metadata": {},
     "output_type": "execute_result"
    }
   ],
   "source": [
    "b = np.linalg.norm(a)\n",
    "b"
   ]
  },
  {
   "cell_type": "code",
   "execution_count": null,
   "metadata": {},
   "outputs": [],
   "source": []
  }
 ],
 "metadata": {
  "kernelspec": {
   "display_name": "Anaconda (new2)",
   "language": "python",
   "name": "anaconda-new2"
  },
  "language_info": {
   "codemirror_mode": {
    "name": "ipython",
    "version": 3
   },
   "file_extension": ".py",
   "mimetype": "text/x-python",
   "name": "python",
   "nbconvert_exporter": "python",
   "pygments_lexer": "ipython3",
   "version": "3.9.2"
  }
 },
 "nbformat": 4,
 "nbformat_minor": 4
}
